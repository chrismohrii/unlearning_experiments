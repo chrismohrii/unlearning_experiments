{
  "nbformat": 4,
  "nbformat_minor": 0,
  "metadata": {
    "colab": {
      "name": "train_nns_regular_mnist.ipynb",
      "provenance": []
    },
    "kernelspec": {
      "name": "python3",
      "display_name": "Python 3"
    },
    "language_info": {
      "name": "python"
    },
    "accelerator": "GPU"
  },
  "cells": [
    {
      "cell_type": "markdown",
      "source": [
        "# Unlearning Experiments ([steps](https://www.overleaf.com/project/623aa8d6b133433e9006bc8a))"
      ],
      "metadata": {
        "id": "xUlA6pKW1QLY"
      }
    },
    {
      "cell_type": "code",
      "source": [
        "import torch\n",
        "from torch import nn\n",
        "from torch.utils.data import DataLoader\n",
        "from torchvision import datasets\n",
        "from torchvision.transforms import ToTensor\n",
        "import random\n",
        "import numpy as np\n",
        "import seaborn as sns\n",
        "import matplotlib.pyplot as plt\n",
        "!pip install pyvacy\n",
        "from pyvacy import optim, analysis"
      ],
      "metadata": {
        "id": "RYZxqbFWbv-s"
      },
      "execution_count": null,
      "outputs": []
    },
    {
      "cell_type": "code",
      "source": [
        "# Get MNIST data\n",
        "training_data = datasets.MNIST(\n",
        "    root=\"data\",\n",
        "    train=True,\n",
        "    download=True,\n",
        "    transform=ToTensor(),\n",
        ")\n",
        "\n",
        "test_data = datasets.MNIST(\n",
        "    root=\"data\",\n",
        "    train=False,\n",
        "    download=True,\n",
        "    transform=ToTensor(),\n",
        ")"
      ],
      "metadata": {
        "id": "K9Fk8NcGb2in"
      },
      "execution_count": null,
      "outputs": []
    },
    {
      "cell_type": "code",
      "source": [
        "# Set batch size\n",
        "batch_size = 50\n",
        "\n",
        "# Create data loaders\n",
        "train_dataloader = DataLoader(training_data, batch_size=batch_size)\n",
        "test_dataloader = DataLoader(test_data, batch_size=batch_size)"
      ],
      "metadata": {
        "id": "LpXjed2xcWMp"
      },
      "execution_count": null,
      "outputs": []
    },
    {
      "cell_type": "code",
      "source": [
        "# Get CPU or GPU device for training\n",
        "device = \"cuda\" if torch.cuda.is_available() else \"cpu\"\n",
        "print(f\"Using {device} device\")\n",
        "\n",
        "# Define 3-layer fully connected neural network\n",
        "class NeuralNetwork(nn.Module):\n",
        "    def __init__(self):\n",
        "        super(NeuralNetwork, self).__init__()\n",
        "        self.flatten = nn.Flatten()\n",
        "        self.linear_relu_stack = nn.Sequential(\n",
        "            nn.Linear(28*28, 100),\n",
        "            nn.ReLU(),\n",
        "            nn.Linear(100, 50),\n",
        "            nn.ReLU(),\n",
        "            nn.Linear(50, 10)\n",
        "        )\n",
        "\n",
        "    def forward(self, x):\n",
        "        x = self.flatten(x)\n",
        "        logits = self.linear_relu_stack(x)\n",
        "        return logits"
      ],
      "metadata": {
        "colab": {
          "base_uri": "https://localhost:8080/"
        },
        "id": "2PqdU3l2cctc",
        "outputId": "181b4acd-b224-49c4-94d2-f19a65301ae3"
      },
      "execution_count": null,
      "outputs": [
        {
          "output_type": "stream",
          "name": "stdout",
          "text": [
            "Using cuda device\n"
          ]
        }
      ]
    },
    {
      "cell_type": "code",
      "source": [
        "# Trains for one epoch.\n",
        "def train(dataloader, model, loss_fn, optimizer):\n",
        "    size = len(dataloader.dataset)\n",
        "    model.train()\n",
        "    for batch, (X, y) in enumerate(dataloader):\n",
        "        # Discard element if it was marked as the removed one (y == -1)\n",
        "        if -1 in y:\n",
        "            index_removed = int((y == -1).nonzero(as_tuple=True)[0][0])\n",
        "            y = torch.cat((y[:index_removed], y[index_removed + 1:]))\n",
        "            X = torch.cat((X[:index_removed, :], X[index_removed + 1:, :]))\n",
        "\n",
        "        X, y = X.to(device), y.to(device)\n",
        "\n",
        "        # Compute prediction error\n",
        "        pred = model(X)\n",
        "        loss = loss_fn(pred, y)\n",
        "\n",
        "        # Backpropagation\n",
        "        optimizer.zero_grad()\n",
        "        loss.backward()\n",
        "        optimizer.step()\n",
        "\n",
        "        if batch % 100 == 0:\n",
        "            loss, current = loss.item(), batch * len(X)\n",
        "            print(f\"loss: {loss:>7f}  [{current:>5d}/{size:>5d}]\")"
      ],
      "metadata": {
        "id": "XXIvVlT1Hugk"
      },
      "execution_count": null,
      "outputs": []
    },
    {
      "cell_type": "code",
      "source": [
        "# Prints the accuracy and average loss for the test set.\n",
        "def test(dataloader, model, loss_fn):\n",
        "    size = len(dataloader.dataset)\n",
        "    num_batches = len(dataloader)\n",
        "    model.eval()\n",
        "    test_loss, correct = 0, 0\n",
        "    with torch.no_grad():\n",
        "        for X, y in dataloader:\n",
        "            X, y = X.to(device), y.to(device)\n",
        "            pred = model(X)\n",
        "            test_loss += loss_fn(pred, y).item()\n",
        "            correct += (pred.argmax(1) == y).type(torch.float).sum().item()\n",
        "    test_loss /= num_batches\n",
        "    correct /= size\n",
        "    print(f\"Test Error: \\n Accuracy: {(100*correct):>0.1f}%, Avg loss: {test_loss:>8f} \\n\")\n",
        "    return correct"
      ],
      "metadata": {
        "id": "zkXutjo_Hvt0"
      },
      "execution_count": null,
      "outputs": []
    },
    {
      "cell_type": "code",
      "source": [
        "# Define loss function and hyperparameters.\n",
        "loss_fn = nn.CrossEntropyLoss()\n",
        "lr = 1e-2\n",
        "num_epochs = 30\n",
        "delta = 0.1"
      ],
      "metadata": {
        "id": "M8JgtV-R1M1l"
      },
      "execution_count": null,
      "outputs": []
    },
    {
      "cell_type": "code",
      "source": [
        "# Sample U (one element) from specified label and get dataset without U.\n",
        "def get_modified_training_dataloader(label, batch_size):\n",
        "    # Create copy of dataset to modify\n",
        "    modified_dataset = datasets.MNIST(\n",
        "        root=\"data\",\n",
        "        train=True,\n",
        "        download=True,\n",
        "        transform=ToTensor(),\n",
        "    )\n",
        "\n",
        "    # Find index of first element from class i (the single element in set of \n",
        "    # delete requests U). It does not matter that it is the first because we\n",
        "    # are randomly shuffling\n",
        "    indicies_from_class = modified_dataset.targets == label\n",
        "    index_of_u = int((indicies_from_class == True).nonzero()[0][0]) # Doesn't matter which one we pick because of shuffling\n",
        "\n",
        "    # Mark the removed element with \"-1\" class to discard while training.\n",
        "    modified_dataset.targets[index_of_u] = -1\n",
        "    \n",
        "    return DataLoader(modified_dataset, batch_size=batch_size, shuffle=True)\n",
        "\n",
        "a = get_modified_training_dataloader(0, 100)\n",
        "\n",
        "\n",
        "# Trains a neural network for a given number of epochs.\n",
        "def train_model(model, train_dataloader, optimizer, test_dataloader = test_dataloader, loss_fn = loss_fn, num_epochs = 100):\n",
        "    for t in range(num_epochs):\n",
        "        print(f\"Epoch {t+1}\\n-------------------------------\")\n",
        "        train(train_dataloader, model, loss_fn, optimizer)\n",
        "        test(test_dataloader, model, loss_fn)\n",
        "    print(\"Done!\")"
      ],
      "metadata": {
        "id": "gOzLiN7r1yex"
      },
      "execution_count": null,
      "outputs": []
    },
    {
      "cell_type": "code",
      "source": [
        "# Initialize list of models\n",
        "models = []\n",
        "num_classes_to_delete_point_from = 10\n",
        "\n",
        "# Compute w and noisy ws for each random seed. For loop in the form i, i+1 to \n",
        "# avoid problems with runtime disconnecting (each iteration takes approx 2 hrs).\n",
        "for seed in range(0, 1):\n",
        "    seed_models = []\n",
        "\n",
        "    # Set seed for training on regular dataset\n",
        "    random.seed(seed)\n",
        "    torch.manual_seed(seed)\n",
        "\n",
        "    # Get new dataloader appropriate for seed (shuffling has an effect)\n",
        "    train_dataloader = DataLoader(training_data, batch_size=batch_size, shuffle=True)\n",
        "\n",
        "    # Train for w(S)\n",
        "    model_regular = NeuralNetwork().to(device)\n",
        "    optimizer = torch.optim.SGD(model_regular.parameters(), lr=lr)\n",
        "    train_model(model_regular, train_dataloader, optimizer, num_epochs = num_epochs)\n",
        "\n",
        "    seed_models.append(model_regular)\n",
        "\n",
        "    # Train for each of the w(S\\U) \n",
        "    models_modified = []\n",
        "    for label in range(num_classes_to_delete_point_from):\n",
        "        print(\"Removing an element from class: \" + str(label))\n",
        "\n",
        "        # Set the same seed to start each training iteration\n",
        "        random.seed(seed)\n",
        "        torch.manual_seed(seed)\n",
        "\n",
        "        # Remove an element from the training dataset\n",
        "        modified_train_dataloader = get_modified_training_dataloader(label, batch_size)\n",
        "\n",
        "        # Create and train model for the modified dataset\n",
        "        model_modified = NeuralNetwork().to(device)\n",
        "        optimizer = torch.optim.SGD(model_modified.parameters(), lr=lr)\n",
        "        train_model(model_modified, modified_train_dataloader, optimizer, num_epochs = num_epochs)\n",
        "\n",
        "        models_modified.append(model_modified)\n",
        "\n",
        "    seed_models.append(models_modified)\n",
        "    models.append(seed_models)"
      ],
      "metadata": {
        "id": "qWLJwQQzwrLA"
      },
      "execution_count": null,
      "outputs": []
    },
    {
      "cell_type": "code",
      "source": [
        "# Applies a function to each element of a nested list\n",
        "def apply(item, fun):\n",
        "    if isinstance(item, list):\n",
        "        return [apply(x, fun) for x in item]\n",
        "    else:\n",
        "        return fun(item)\n",
        "\n",
        "# Return a 1D representation of all the weights in the model.\n",
        "def get_weights(model):\n",
        "    weights = []\n",
        "    for _, param in model.named_parameters():\n",
        "        weights.append(param.data.flatten())\n",
        "    return torch.concat(weights)\n",
        "\n",
        "model_weights = apply(models.copy(), get_weights)\n",
        "\n",
        "# Compute the d_1(U) values\n",
        "def get_d_values(model_weights):\n",
        "  d_values = []\n",
        "  for seed in range(1):\n",
        "      values_for_seed = []\n",
        "      for label in range(len(model_weights[seed][1])):\n",
        "          difference = model_weights[seed][0] - model_weights[seed][1][label]\n",
        "          print(\"L2 norm of w from regular model: \" + str(float(torch.norm(model_weights[seed][0], 2))))\n",
        "          print(\"L2 norm of w from model with element removed from class \" + str(label) + \": \" + str(float(torch.norm(model_weights[seed][1][label], 2))))\n",
        "          print(\"L2 norm of their difference: \" + str(float(torch.norm(difference, 2))) + \"\\n\")\n",
        "          values_for_seed.append(torch.norm(difference, 2))\n",
        "      d_values.append(values_for_seed)\n",
        "  return d_values\n",
        "\n",
        "d_values = get_d_values(model_weights)\n",
        "\n",
        "saved_model_params = apply(models.copy(), lambda x : x.state_dict())\n",
        "\n",
        "# Compute test error for w(S) models and w(S\\U) models for fixed epsilon/delta.\n",
        "def compute_all_losses(models, saved_model_params, epsilon, delta, d_values, loss_fn = loss_fn, test_dataloader = test_dataloader):\n",
        "    # Compute standard deviation of Gaussain noise to add to each model\n",
        "    c = np.sqrt(2 * np.log(1.25/delta))\n",
        "    sigma_divided_by_d = c / epsilon\n",
        "\n",
        "    with torch.no_grad():\n",
        "        accuracies = []\n",
        "        for seed in range(1):\n",
        "            print(\"Seed: \" + str(seed))\n",
        "            print(\"Regular test error (without removing an element or adding noise)\")\n",
        "            test(test_dataloader, models[seed][0], loss_fn)\n",
        "\n",
        "            for label in range(len(saved_model_params[seed][1])):\n",
        "                np.random.seed(0)\n",
        "                print(\"Seed: \" + str(seed))\n",
        "                print(\"Delete requests U is an element from class: \" + str(label))\n",
        "                model = NeuralNetwork()\n",
        "                model.to(device)\n",
        "                model.load_state_dict(saved_model_params[seed][1][label])\n",
        "                # Add noise to w(S \\ U)\n",
        "                for param in model.parameters():  \n",
        "                    sigma = sigma_divided_by_d * d_values[seed][label]\n",
        "                    a = np.array([])\n",
        "                    a = np.random.normal(0, 1)\n",
        "                    param.add_(torch.tensor(np.random.normal(0, sigma.cpu())))\n",
        "                accuracies.append(test(test_dataloader, model, loss_fn))\n",
        "    return accuracies\n",
        "epsilon, delta = 2, 0.1\n",
        "compute_all_losses(models, saved_model_params, epsilon, delta, d_values)\n"
      ],
      "metadata": {
        "id": "q2-bY5UGkx9L"
      },
      "execution_count": null,
      "outputs": []
    },
    {
      "cell_type": "code",
      "source": [
        "# Save models (code has been changed at each iteration)\n",
        "from google.colab import files\n",
        "\n",
        "torch.save(models[2].state_dict(), \"model_reg_seed_0.pt\")\n",
        "files.download(\"model_reg_seed_0.pt\")\n",
        "for i in range(num_classes_to_delete_point_from):\n",
        "  filename = \"model_removed_\" + str(i) + \"_seed_0.pt\"\n",
        "  torch.save(models[0][i].state_dict(), filename)\n",
        "  files.download(filename)"
      ],
      "metadata": {
        "id": "zeDyE0rY8yyg"
      },
      "execution_count": null,
      "outputs": []
    },
    {
      "cell_type": "code",
      "source": [
        "import seaborn as sns\n",
        "import matplotlib.pyplot as plt\n",
        "\n",
        "# Compute test error after adding noise to final model params\n",
        "epsilon_vals = np.linspace(1, 40, 40)\n",
        "#noise_accuracies = []\n",
        "\n",
        "#for epsilon in epsilon_vals:\n",
        "    #noise_accuracies.append(np.mean(compute_all_losses(models, saved_model_params, epsilon, delta, d_values)))\n",
        "\n",
        "graph = sns.lineplot(x = epsilon_vals, y = noise_accuracies)\n",
        "graph.axhline(test(test_dataloader, models[0][0], loss_fn))\n",
        "plt.title(\"Epsilon vs Average Accuracy (fixed delta = 0.1)\")\n",
        "plt.show()\n"
      ],
      "metadata": {
        "id": "77Lf2shV3sWI"
      },
      "execution_count": null,
      "outputs": []
    },
    {
      "cell_type": "code",
      "source": [
        "# Find noise parameter for epsilon provided\n",
        "def find_noise_parameter(eps, delta, training_data, batch_size, num_epochs, max_iters):\n",
        "  # F returns epsilon\n",
        "  def f(delta, training_data, batch_size, num_epochs, len_training_data, noise_multiplier):\n",
        "    return analysis.moments_accountant(\n",
        "        N=len(training_data),\n",
        "        batch_size=batch_size,\n",
        "        noise_multiplier=noise_multiplier,\n",
        "        epochs=num_epochs,\n",
        "        delta=delta,\n",
        "      )\n",
        "    \n",
        "  len_training_data = len(training_data)\n",
        "\n",
        "  return _binary_search(f, 0.1, 100, eps, max_iters, delta, training_data, batch_size, num_epochs, len_training_data)\n",
        "\n",
        "def _binary_search(f, left, right, goal, iterations, delta, training_data, batch_size, num_epochs, len_training_data):\n",
        "    \"\"\"Performs a search over a closed domain [left, right] for the value which get f close to goal(epsilon).\"\"\"\n",
        "    for i in range(iterations):\n",
        "        middle = (left + right) / 2\n",
        "        if f(delta, training_data, batch_size, num_epochs, len_training_data, middle) > goal:\n",
        "          left = middle\n",
        "        else:\n",
        "          right = middle\n",
        "    return (left + right) / 2\n",
        "\n",
        "# Check noise param is found correctly. \n",
        "print(analysis.moments_accountant(\n",
        "    N=len(training_data),\n",
        "    batch_size=batch_size,\n",
        "    noise_multiplier=0.3,\n",
        "    epochs=num_epochs,\n",
        "    delta=0.1,\n",
        "))\n",
        "find_noise_parameter(41.54867122425879, 0.1, training_data, batch_size, num_epochs, 40)"
      ],
      "metadata": {
        "colab": {
          "base_uri": "https://localhost:8080/"
        },
        "id": "msWhOW_fyeYr",
        "outputId": "9a4f4967-73ca-4941-d65b-1922b230b1c6"
      },
      "execution_count": null,
      "outputs": [
        {
          "output_type": "stream",
          "name": "stdout",
          "text": [
            "41.54867122425879\n"
          ]
        },
        {
          "output_type": "execute_result",
          "data": {
            "text/plain": [
              "0.3000000000425188"
            ]
          },
          "metadata": {},
          "execution_count": 22
        }
      ]
    },
    {
      "cell_type": "code",
      "source": [
        "# Compute DPSGD accuracies\n",
        "dpsgd_accuracies = []\n",
        "epsilon_vals = np.linspace(0.5, 40, 5)\n",
        "clipping_norm = [1.5, 2]\n",
        "clip = 1\n",
        "for seed in range(0, 1):\n",
        "  for eps in epsilon_vals:\n",
        "    #for clip in clipping_norm:\n",
        "      random.seed(seed)\n",
        "      torch.manual_seed(seed)  \n",
        "      \n",
        "      train_dataloader = DataLoader(training_data, batch_size=batch_size, shuffle=True)\n",
        "      \n",
        "      model = NeuralNetwork().to(device)\n",
        "\n",
        "      noise_multiplier = find_noise_parameter(eps, delta, training_data, batch_size, num_epochs, 40)\n",
        "\n",
        "      optimizer = optim.DPSGD(\n",
        "        l2_norm_clip=clip,\n",
        "        noise_multiplier=noise_multiplier,\n",
        "        batch_size=batch_size,\n",
        "        lr=lr,\n",
        "        params=model.parameters()\n",
        "      )\n",
        "\n",
        "      train_model(model, train_dataloader, optimizer, num_epochs = num_epochs)\n",
        "      dpsgd_accuracies.append(test(test_dataloader, model, loss_fn))"
      ],
      "metadata": {
        "id": "I5N12lwBzLfR"
      },
      "execution_count": null,
      "outputs": []
    },
    {
      "cell_type": "code",
      "source": [
        "# Visualize change in noise params for different epsilon\n",
        "epsilon_vals = np.linspace(1, 40, 40)\n",
        "for eps in epsilon_vals:\n",
        "  print(find_noise_parameter(eps, 0.1, training_data, batch_size, num_epochs, 15))"
      ],
      "metadata": {
        "colab": {
          "base_uri": "https://localhost:8080/"
        },
        "id": "RYcIX0uWALNd",
        "outputId": "286484f0-4645-4d21-b23f-120c0024a1ff"
      },
      "execution_count": null,
      "outputs": [
        {
          "output_type": "stream",
          "name": "stdout",
          "text": [
            "0.7051681518554688\n",
            "0.5710250854492187\n",
            "0.5161483764648438\n",
            "0.4856613159179688\n",
            "0.46127166748046877\n",
            "0.44297943115234373\n",
            "0.43078460693359377\n",
            "0.4185897827148438\n",
            "0.40639495849609375\n",
            "0.40029754638671877\n",
            "0.39115142822265625\n",
            "0.38505401611328127\n",
            "0.3789566040039063\n",
            "0.3728591918945312\n",
            "0.36676177978515623\n",
            "0.3637130737304688\n",
            "0.3576156616210937\n",
            "0.35456695556640627\n",
            "0.35151824951171873\n",
            "0.3484695434570312\n",
            "0.34542083740234375\n",
            "0.3423721313476562\n",
            "0.33932342529296877\n",
            "0.33627471923828123\n",
            "0.3332260131835937\n",
            "0.33017730712890625\n",
            "0.3271286010742187\n",
            "0.32407989501953116\n",
            "0.32407989501953116\n",
            "0.32103118896484373\n",
            "0.3179824829101562\n",
            "0.31493377685546875\n",
            "0.31493377685546875\n",
            "0.3118850708007812\n",
            "0.3118850708007812\n",
            "0.30883636474609377\n",
            "0.30578765869140623\n",
            "0.30578765869140623\n",
            "0.3027389526367188\n",
            "0.3027389526367188\n"
          ]
        }
      ]
    },
    {
      "cell_type": "code",
      "source": [
        "# Compare all three methods (Regular, (Remove point, retrain, add noise), DPSGD)\n",
        "graph = sns.lineplot()\n",
        "graph.axhline(test(test_dataloader, models[0][0], loss_fn), color='green')\n",
        "sns.lineplot(x = epsilon_vals, y = dpsgd_accuracies)\n",
        "sns.lineplot(x = np.linspace(1, 40, 40), y = noise_accuracies)\n",
        "plt.legend(labels=['Regular', 'DPSGD', 'Remove point, retrain, add noise'])\n",
        "plt.title(\"Epsilon vs Average Accuracy (fixed delta = 0.1, Regular MNIST)\")\n",
        "plt.xlabel(\"Epsilon\")\n",
        "plt.ylabel(\"Average accuracy\")\n",
        "plt.show()"
      ],
      "metadata": {
        "colab": {
          "base_uri": "https://localhost:8080/",
          "height": 348
        },
        "id": "VC75I9f597YW",
        "outputId": "fb601ff6-010b-46ed-e89c-912d25b985e8"
      },
      "execution_count": null,
      "outputs": [
        {
          "output_type": "stream",
          "name": "stdout",
          "text": [
            "Test Error: \n",
            " Accuracy: 97.0%, Avg loss: 0.099635 \n",
            "\n"
          ]
        },
        {
          "output_type": "display_data",
          "data": {
            "text/plain": [
              "<Figure size 432x288 with 1 Axes>"
            ],
            "image/png": "[encoded data removed]"
          },
          "metadata": {
            "needs_background": "light"
          }
        }
      ]
    }
  ]
}